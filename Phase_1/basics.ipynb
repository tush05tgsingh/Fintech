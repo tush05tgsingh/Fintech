{
 "cells": [
  {
   "cell_type": "code",
   "execution_count": null,
   "id": "8a28b1c0",
   "metadata": {},
   "outputs": [
    {
     "name": "stdout",
     "output_type": "stream",
     "text": [
      "/bin/bash: /usr/local/bin/pip: /usr/local/opt/python/bin/python3.7: bad interpreter: No such file or directory\n"
     ]
    }
   ],
   "source": [
    "!pip install statsmodels seaborn scipy matplotlib pandas numpy scikit-learn patsy pyarrow openpyxl requests sqlalchemy"
   ]
  },
  {
   "cell_type": "code",
   "execution_count": 1,
   "id": "bb1988d2",
   "metadata": {},
   "outputs": [
    {
     "name": "stdout",
     "output_type": "stream",
     "text": [
      "Cloning into 'pydata-book'...\n",
      "remote: Enumerating objects: 553, done.\u001b[K\n",
      "remote: Counting objects: 100% (28/28), done.\u001b[K\n",
      "remote: Compressing objects: 100% (25/25), done.\u001b[K\n",
      "remote: Total 553 (delta 23), reused 3 (delta 3), pack-reused 525 (from 1)\u001b[K\n",
      "Receiving objects: 100% (553/553), 63.76 MiB | 1.19 MiB/s, done.\n",
      "Resolving deltas: 100% (209/209), done.\n",
      "Updating files: 100% (208/208), done.\n"
     ]
    }
   ],
   "source": [
    "!git clone https://github.com/wesm/pydata-book.git"
   ]
  },
  {
   "cell_type": "code",
   "execution_count": 2,
   "id": "90a643b8",
   "metadata": {},
   "outputs": [],
   "source": [
    "import pandas as pd\n",
    "import numpy as np\n",
    "import matplotlib.pyplot as plt\n",
    "import seaborn as sns\n",
    "import statsmodels as sm"
   ]
  },
  {
   "cell_type": "code",
   "execution_count": 1,
   "id": "6b65a8a0",
   "metadata": {},
   "outputs": [
    {
     "name": "stdout",
     "output_type": "stream",
     "text": [
      "A ['Alice', 'AdamBob']\n",
      "C ['Charlie']\n",
      "D ['David']\n",
      "E ['Eve']\n"
     ]
    }
   ],
   "source": [
    "import itertools\n",
    "\n",
    "def first_letter(x):\n",
    "    return x[0]\n",
    "\n",
    "names = ['Alice', 'Adam' 'Bob', 'Charlie', 'David', 'Eve']\n",
    "\n",
    "for letter, names in itertools.groupby(sorted(names, key=first_letter), key=first_letter):\n",
    "    print(letter, list(names))"
   ]
  },
  {
   "cell_type": "markdown",
   "id": "5b89713b",
   "metadata": {},
   "source": [
    "# Numpy "
   ]
  },
  {
   "cell_type": "code",
   "execution_count": 9,
   "id": "9ddd73f9",
   "metadata": {},
   "outputs": [
    {
     "name": "stdout",
     "output_type": "stream",
     "text": [
      "[[1.5 2.5 3.5 4.5]\n",
      " [0.  1.  2.  3. ]]\n",
      "[[15. 25. 35. 45.]\n",
      " [ 0. 10. 20. 30.]]\n",
      "deminsions of the array 2\n",
      "shape of numpy array (2, 4)\n",
      "data type of the array float64\n",
      "[[0. 0. 0.]\n",
      " [0. 0. 0.]]\n",
      "[[1. 1. 1.]\n",
      " [1. 1. 1.]]\n",
      "using arange function: [0 1 2 3 4 5 6 7 8 9]\n",
      "[0 2 4 6 8]\n",
      "int64\n",
      "float64\n"
     ]
    }
   ],
   "source": [
    "# Numpy faster mathematical opertions than python lists\n",
    "\n",
    "# easiest way to create a numpy array is to use the np.array function\n",
    "data = np.array([[1.5, 2.5, 3.5, 4.5], [0, 1, 2, 3]])\n",
    "print(data)\n",
    "\n",
    "data = data * 10 \n",
    "print(data)\n",
    "\n",
    "# each array has shape and dtype attributes\n",
    "print(\"deminsions of the array\", data.ndim)\n",
    "print(\"shape of numpy array\", data.shape)\n",
    "print(\"data type of the array\",data.dtype)\n",
    "\n",
    "#easy to create a numpy array with zeros\n",
    "data = np.zeros((2, 3))\n",
    "print(data)\n",
    "# or with ones\n",
    "data = np.ones((2, 3))\n",
    "print(data)\n",
    "\n",
    "#array-valued operations\n",
    "print(\"using arange function:\",np.arange(10))  # creates an array with values from 0 to 9\n",
    "print(np.arange(0, 10, 2))  # creates an array with values from 0 to 8 with a step of 2\n",
    "\n",
    "arr = np.array([1,2,3,4,5])\n",
    "print(arr.dtype)\n",
    "float_arr = arr.astype(np.float64)  # convert to float\n",
    "print(float_arr.dtype)\n"
   ]
  },
  {
   "cell_type": "code",
   "execution_count": null,
   "id": "726d4af1",
   "metadata": {},
   "outputs": [],
   "source": []
  }
 ],
 "metadata": {
  "kernelspec": {
   "display_name": "phase_1_basics",
   "language": "python",
   "name": "python3"
  },
  "language_info": {
   "codemirror_mode": {
    "name": "ipython",
    "version": 3
   },
   "file_extension": ".py",
   "mimetype": "text/x-python",
   "name": "python",
   "nbconvert_exporter": "python",
   "pygments_lexer": "ipython3",
   "version": "3.10.18"
  }
 },
 "nbformat": 4,
 "nbformat_minor": 5
}
