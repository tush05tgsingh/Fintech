{
 "cells": [
  {
   "cell_type": "markdown",
   "id": "c24112be",
   "metadata": {},
   "source": [
    "Before getting into financial modelling, lets learn a little about probabilty distribution \n",
    "- Probability distribution describes how likely each possible value of a random variable is. \n",
    "  - For example:\n",
    "  1. When you roll a die, each number (1–6) has equal probability → Uniform distribution.\n",
    "  2. When you measure people’s heights, most are near average → Normal distribution.\n",
    "- There are two types of distribution discrete and continous \n",
    "- There are "
   ]
  },
  {
   "cell_type": "markdown",
   "id": "2282c9ae",
   "metadata": {},
   "source": []
  }
 ],
 "metadata": {
  "language_info": {
   "name": "python"
  }
 },
 "nbformat": 4,
 "nbformat_minor": 5
}
